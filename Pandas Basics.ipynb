{
 "cells": [
  {
   "cell_type": "markdown",
   "id": "646ad266-4f86-4c12-ba0e-3a520166e677",
   "metadata": {},
   "source": [
    "                                    ASSIGNMENT: PANDAS BASICS"
   ]
  },
  {
   "cell_type": "markdown",
   "id": "1f4065b0-2e3c-4002-9e0e-10d38249a839",
   "metadata": {},
   "source": [
    "Q1. Create a Pandas Series that contains the following data: 4, 8, 15, 16, 23, and 42. Then, print the series."
   ]
  },
  {
   "cell_type": "code",
   "execution_count": 4,
   "id": "15f35542-6aa3-4ae6-af3e-dae17727026d",
   "metadata": {},
   "outputs": [
    {
     "name": "stdout",
     "output_type": "stream",
     "text": [
      "Requirement already satisfied: pandas in /opt/conda/lib/python3.10/site-packages (1.5.2)\n",
      "Requirement already satisfied: python-dateutil>=2.8.1 in /opt/conda/lib/python3.10/site-packages (from pandas) (2.8.2)\n",
      "Requirement already satisfied: pytz>=2020.1 in /opt/conda/lib/python3.10/site-packages (from pandas) (2022.6)\n",
      "Requirement already satisfied: numpy>=1.21.0 in /opt/conda/lib/python3.10/site-packages (from pandas) (1.23.5)\n",
      "Requirement already satisfied: six>=1.5 in /opt/conda/lib/python3.10/site-packages (from python-dateutil>=2.8.1->pandas) (1.16.0)\n",
      "Note: you may need to restart the kernel to use updated packages.\n"
     ]
    }
   ],
   "source": [
    "pip install pandas"
   ]
  },
  {
   "cell_type": "code",
   "execution_count": 5,
   "id": "c04b3d88-eec1-40ed-ab9a-99ec062089aa",
   "metadata": {},
   "outputs": [],
   "source": [
    "import pandas as pd"
   ]
  },
  {
   "cell_type": "code",
   "execution_count": 6,
   "id": "982ec816-a2bb-424a-b4b9-7181d31f495c",
   "metadata": {},
   "outputs": [],
   "source": [
    "list= ['4','8','15','16','23','42']"
   ]
  },
  {
   "cell_type": "code",
   "execution_count": 7,
   "id": "d970c91e-2374-4174-8110-254e8a9ec9e2",
   "metadata": {},
   "outputs": [
    {
     "name": "stdout",
     "output_type": "stream",
     "text": [
      "0     4\n",
      "1     8\n",
      "2    15\n",
      "3    16\n",
      "4    23\n",
      "5    42\n",
      "dtype: object\n"
     ]
    }
   ],
   "source": [
    "series= pd.Series(list)\n",
    "print(series)"
   ]
  },
  {
   "cell_type": "markdown",
   "id": "08e91282-4d84-4b41-985d-bea297bebb0d",
   "metadata": {},
   "source": [
    "~~~~~~~~~~~~~~~~~~~~~~~~~~~~~~~~~~~~~~~~~~~~~~~~~~~~~~~~~~~~~~~~~~~~~~~~~~~~~~~~~~\n"
   ]
  },
  {
   "cell_type": "markdown",
   "id": "1056ea8b-6fbc-4161-999e-91d84426afb4",
   "metadata": {},
   "source": [
    "Q2. Create a variable of list type containing 10 elements in it, and apply pandas.Series function on the\n",
    "variable print it."
   ]
  },
  {
   "cell_type": "code",
   "execution_count": 8,
   "id": "e0d8ec05-e415-4d0b-9b39-8fa00154ff52",
   "metadata": {},
   "outputs": [],
   "source": [
    "list1= ['MOHIT','ROHIT','MUNNI','POOJA','ROLI','BACCHU','ISSHU','ZEEVA','RONAK','KESHAV']"
   ]
  },
  {
   "cell_type": "code",
   "execution_count": 9,
   "id": "093fcae0-6d33-472a-9af7-6fdce4d503e9",
   "metadata": {},
   "outputs": [
    {
     "name": "stdout",
     "output_type": "stream",
     "text": [
      "0     MOHIT\n",
      "1     ROHIT\n",
      "2     MUNNI\n",
      "3     POOJA\n",
      "4      ROLI\n",
      "5    BACCHU\n",
      "6     ISSHU\n",
      "7     ZEEVA\n",
      "8     RONAK\n",
      "9    KESHAV\n",
      "dtype: object\n"
     ]
    }
   ],
   "source": [
    "series1= pd.Series(list1)\n",
    "print(series1)"
   ]
  },
  {
   "cell_type": "markdown",
   "id": "3e51572a-c89b-491e-8718-ea8cc4ca694a",
   "metadata": {},
   "source": [
    "~~~~~~~~~~~~~~~~~~~~~~~~~~~~~~~~~~~~~~~~~~~"
   ]
  },
  {
   "cell_type": "markdown",
   "id": "44d6f1aa-3700-4048-b465-4b311d4d7bcb",
   "metadata": {},
   "source": [
    "Q3. Create a Pandas DataFrame that contains the following data:"
   ]
  },
  {
   "cell_type": "code",
   "execution_count": 10,
   "id": "c142ebe8-afd5-4bab-8684-a526ab8dee3c",
   "metadata": {},
   "outputs": [
    {
     "data": {
      "text/plain": [
       "'Name\\nAlice\\nBob\\nClaire\\n\\n#Age\\n25\\n30\\n27\\n\\nGender\\nFemale\\nMale\\nFemale\\n\\nThen, print the DataFrame.'"
      ]
     },
     "execution_count": 10,
     "metadata": {},
     "output_type": "execute_result"
    }
   ],
   "source": [
    "\"\"\"Name\n",
    "Alice\n",
    "Bob\n",
    "Claire\n",
    "\n",
    "#Age\n",
    "25\n",
    "30\n",
    "27\n",
    "\n",
    "Gender\n",
    "Female\n",
    "Male\n",
    "Female\n",
    "\n",
    "Then, print the DataFrame.\"\"\""
   ]
  },
  {
   "cell_type": "code",
   "execution_count": 11,
   "id": "b1e174c1-6abf-426e-935a-09f7ad7fb59c",
   "metadata": {},
   "outputs": [],
   "source": [
    "#making the list for data\n",
    "data= [['Alice', 25 , 'female'], ['Bob', 30, 'Male'], ['Claire', 27, 'Female']]"
   ]
  },
  {
   "cell_type": "code",
   "execution_count": 12,
   "id": "e2fdd20f-8231-4192-adb5-b4457335129a",
   "metadata": {},
   "outputs": [
    {
     "name": "stdout",
     "output_type": "stream",
     "text": [
      "     Name  Age  Gender\n",
      "0   Alice   25  female\n",
      "1     Bob   30    Male\n",
      "2  Claire   27  Female\n"
     ]
    }
   ],
   "source": [
    "#making a dataframe and defining the columns\n",
    "\n",
    "dataframe=pd.DataFrame(data, columns=['Name', 'Age' , 'Gender'])\n",
    "print(dataframe)"
   ]
  },
  {
   "cell_type": "markdown",
   "id": "e30fd5af-b968-4ac4-a660-b358918c37cf",
   "metadata": {},
   "source": [
    "~~~~~~~~~~~~~~~~~~~~~~~~~~~~~~~~~~~~~~~"
   ]
  },
  {
   "cell_type": "markdown",
   "id": "962f6e38-7259-4ef6-bc7d-09eb60405e66",
   "metadata": {},
   "source": [
    "Q4. What is ‘DataFrame’ in pandas and how is it different from pandas.series? Explain with an example."
   ]
  },
  {
   "cell_type": "markdown",
   "id": "0fa9ebf0-befc-454b-94c8-100da154989b",
   "metadata": {},
   "source": [
    "In pandas dataframe is a structure or a tebular for showing a structural data in a form of table. It is able to store the data from the various structured query languages like sql and excels. By a dataframe we can exicute the multiple functions and method to our data for its better clarifiaction.The very basic differnce is that; in a Pandas, a Series is a 1D array of data, but a single-column DataFrame is a 2D table with one column. There are many differnces of properties among dataframe and series.DataFrame always accept the data,which is only in the form of list."
   ]
  },
  {
   "cell_type": "markdown",
   "id": "f19749c1-ac54-47d7-9b32-2474fc8ae394",
   "metadata": {},
   "source": [
    "~~~~~~~~~~~~~~~~~~~~~~~~~~~~~~~~~~~~~~~~~~~~~~~~~~~~~~~~~~"
   ]
  },
  {
   "cell_type": "markdown",
   "id": "5b956a9d-4b48-4054-bfe8-2b4f3ce25c70",
   "metadata": {},
   "source": [
    "Q5. What are some common functions you can use to manipulate data in a Pandas DataFrame? Can\n",
    "you give an example of when you might use one of these functions?"
   ]
  },
  {
   "cell_type": "markdown",
   "id": "c457dd91-ddfb-4d1b-82ff-138f7f960433",
   "metadata": {},
   "source": [
    "There are many functions that we can use for manipulation of data in pandas Dataframe.some of them are following. Here we are using the previous data frame for explaining such functions:"
   ]
  },
  {
   "cell_type": "code",
   "execution_count": 22,
   "id": "357284a4-8bce-486d-b64c-dbf4bbd42c22",
   "metadata": {},
   "outputs": [
    {
     "data": {
      "text/html": [
       "<div>\n",
       "<style scoped>\n",
       "    .dataframe tbody tr th:only-of-type {\n",
       "        vertical-align: middle;\n",
       "    }\n",
       "\n",
       "    .dataframe tbody tr th {\n",
       "        vertical-align: top;\n",
       "    }\n",
       "\n",
       "    .dataframe thead th {\n",
       "        text-align: right;\n",
       "    }\n",
       "</style>\n",
       "<table border=\"1\" class=\"dataframe\">\n",
       "  <thead>\n",
       "    <tr style=\"text-align: right;\">\n",
       "      <th></th>\n",
       "      <th>Name</th>\n",
       "      <th>Age</th>\n",
       "      <th>Gender</th>\n",
       "    </tr>\n",
       "  </thead>\n",
       "  <tbody>\n",
       "    <tr>\n",
       "      <th>0</th>\n",
       "      <td>Alice</td>\n",
       "      <td>25</td>\n",
       "      <td>female</td>\n",
       "    </tr>\n",
       "  </tbody>\n",
       "</table>\n",
       "</div>"
      ],
      "text/plain": [
       "    Name  Age  Gender\n",
       "0  Alice   25  female"
      ]
     },
     "execution_count": 22,
     "metadata": {},
     "output_type": "execute_result"
    }
   ],
   "source": [
    "#For priting the first row from uper\n",
    "\n",
    "dataframe.head(1)\n"
   ]
  },
  {
   "cell_type": "code",
   "execution_count": 23,
   "id": "db61c743-76dc-4758-adf9-6e83b595fd44",
   "metadata": {},
   "outputs": [
    {
     "data": {
      "text/html": [
       "<div>\n",
       "<style scoped>\n",
       "    .dataframe tbody tr th:only-of-type {\n",
       "        vertical-align: middle;\n",
       "    }\n",
       "\n",
       "    .dataframe tbody tr th {\n",
       "        vertical-align: top;\n",
       "    }\n",
       "\n",
       "    .dataframe thead th {\n",
       "        text-align: right;\n",
       "    }\n",
       "</style>\n",
       "<table border=\"1\" class=\"dataframe\">\n",
       "  <thead>\n",
       "    <tr style=\"text-align: right;\">\n",
       "      <th></th>\n",
       "      <th>Name</th>\n",
       "      <th>Age</th>\n",
       "      <th>Gender</th>\n",
       "    </tr>\n",
       "  </thead>\n",
       "  <tbody>\n",
       "    <tr>\n",
       "      <th>2</th>\n",
       "      <td>Claire</td>\n",
       "      <td>27</td>\n",
       "      <td>Female</td>\n",
       "    </tr>\n",
       "  </tbody>\n",
       "</table>\n",
       "</div>"
      ],
      "text/plain": [
       "     Name  Age  Gender\n",
       "2  Claire   27  Female"
      ]
     },
     "execution_count": 23,
     "metadata": {},
     "output_type": "execute_result"
    }
   ],
   "source": [
    "#for prining the rows from lower side\n",
    "dataframe.tail(1)"
   ]
  },
  {
   "cell_type": "code",
   "execution_count": 24,
   "id": "7d7d55c1-2f04-42e6-8a73-2fea2c652ee3",
   "metadata": {},
   "outputs": [
    {
     "data": {
      "text/html": [
       "<div>\n",
       "<style scoped>\n",
       "    .dataframe tbody tr th:only-of-type {\n",
       "        vertical-align: middle;\n",
       "    }\n",
       "\n",
       "    .dataframe tbody tr th {\n",
       "        vertical-align: top;\n",
       "    }\n",
       "\n",
       "    .dataframe thead th {\n",
       "        text-align: right;\n",
       "    }\n",
       "</style>\n",
       "<table border=\"1\" class=\"dataframe\">\n",
       "  <thead>\n",
       "    <tr style=\"text-align: right;\">\n",
       "      <th></th>\n",
       "      <th>Name</th>\n",
       "      <th>Age</th>\n",
       "      <th>Gender</th>\n",
       "    </tr>\n",
       "  </thead>\n",
       "  <tbody>\n",
       "    <tr>\n",
       "      <th>0</th>\n",
       "      <td>Alice</td>\n",
       "      <td>25</td>\n",
       "      <td>female</td>\n",
       "    </tr>\n",
       "    <tr>\n",
       "      <th>1</th>\n",
       "      <td>Bob</td>\n",
       "      <td>30</td>\n",
       "      <td>Male</td>\n",
       "    </tr>\n",
       "    <tr>\n",
       "      <th>2</th>\n",
       "      <td>Claire</td>\n",
       "      <td>27</td>\n",
       "      <td>Female</td>\n",
       "    </tr>\n",
       "  </tbody>\n",
       "</table>\n",
       "</div>"
      ],
      "text/plain": [
       "     Name  Age  Gender\n",
       "0   Alice   25  female\n",
       "1     Bob   30    Male\n",
       "2  Claire   27  Female"
      ]
     },
     "execution_count": 24,
     "metadata": {},
     "output_type": "execute_result"
    }
   ],
   "source": [
    "#for printing the data without header\n",
    "dataframe.head(None)"
   ]
  },
  {
   "cell_type": "markdown",
   "id": "3b3fd23e-6ed2-453e-b21e-e24e455a8864",
   "metadata": {},
   "source": [
    "~~~~~~~~~~~~~~~~~~~~~~~~~~~~~~~~~~~~~~~~~~~~~~~~~~~~~~\n"
   ]
  },
  {
   "cell_type": "markdown",
   "id": "81b3b1d6-253a-4912-b760-517837bd4a34",
   "metadata": {},
   "source": [
    "Q6. Which of the following is mutable in nature Series, DataFrame, Panel?"
   ]
  },
  {
   "cell_type": "markdown",
   "id": "7511a140-95bd-46d7-9c22-f338d4eef5df",
   "metadata": {},
   "source": [
    "Series\n",
    "A Series is a one dimensional array like structure with homogeneous data. The values of the series are mutable means we can change any value in series, but the size of the series is immutable so we can not change the size of the series.\n",
    "\n",
    "Data Frame\n",
    "DataFrame is a two-dimensional array with heterogeneous data. A DataFrame size is mutable and data is also mutable so we can change the data and size of DataFrame at any time.\n",
    "\n",
    "Panel\n",
    "The panel is a three-dimensional data structure with heterogeneous data. It is very hard to represent the Panel in a graphical representation. But a Panel can be illustrated as a container of a DataFrame. In Panel Data and size are mutable."
   ]
  },
  {
   "cell_type": "markdown",
   "id": "0ec7be59-6d70-46d2-8107-e34d04d58f63",
   "metadata": {},
   "source": [
    "~~~~~~~~~~~~~~~~~~~~~~~~~~~~~~~~~~\n"
   ]
  },
  {
   "cell_type": "markdown",
   "id": "415507e2-eb32-4983-881e-186a67179fca",
   "metadata": {},
   "source": [
    "Q7. Create a DataFrame using multiple Series. Explain with an example."
   ]
  },
  {
   "cell_type": "code",
   "execution_count": 46,
   "id": "fc5c0b71-442a-46fa-874a-3930735eb83b",
   "metadata": {},
   "outputs": [],
   "source": [
    "series1= pd.Series(['Rahul','mojit', 'Ppau'])\n"
   ]
  },
  {
   "cell_type": "code",
   "execution_count": 47,
   "id": "05701fff-ff9a-49f2-a27b-a4890ffc04af",
   "metadata": {},
   "outputs": [],
   "source": [
    "series2= pd.Series([21, 22, 13])\n"
   ]
  },
  {
   "cell_type": "code",
   "execution_count": 48,
   "id": "74105210-52e2-40d9-b055-33d9a6c488d6",
   "metadata": {},
   "outputs": [],
   "source": [
    "series3=pd.Series(['Data science', 'web dev', 'labour'])"
   ]
  },
  {
   "cell_type": "code",
   "execution_count": 49,
   "id": "8802ca0d-03ee-43d1-801b-62517c905569",
   "metadata": {},
   "outputs": [],
   "source": [
    "data_list=[series1,series2,series3]"
   ]
  },
  {
   "cell_type": "code",
   "execution_count": 52,
   "id": "39f60097-5b4a-4db6-b549-3f437b21745e",
   "metadata": {},
   "outputs": [
    {
     "name": "stdout",
     "output_type": "stream",
     "text": [
      "              0        1       2\n",
      "0         Rahul    mojit    Ppau\n",
      "1            21       22      13\n",
      "2  Data science  web dev  labour\n"
     ]
    }
   ],
   "source": [
    "dataframe1= pd.DataFrame(data_list)\n",
    "print(dataframe1)"
   ]
  }
 ],
 "metadata": {
  "kernelspec": {
   "display_name": "Python 3 (ipykernel)",
   "language": "python",
   "name": "python3"
  },
  "language_info": {
   "codemirror_mode": {
    "name": "ipython",
    "version": 3
   },
   "file_extension": ".py",
   "mimetype": "text/x-python",
   "name": "python",
   "nbconvert_exporter": "python",
   "pygments_lexer": "ipython3",
   "version": "3.10.8"
  }
 },
 "nbformat": 4,
 "nbformat_minor": 5
}
